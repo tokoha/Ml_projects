{
  "nbformat": 4,
  "nbformat_minor": 0,
  "metadata": {
    "colab": {
      "provenance": [],
      "authorship_tag": "ABX9TyM7NZoNplDlVOqrjCLkQ+5Z",
      "include_colab_link": true
    },
    "kernelspec": {
      "name": "python3",
      "display_name": "Python 3"
    },
    "language_info": {
      "name": "python"
    }
  },
  "cells": [
    {
      "cell_type": "markdown",
      "metadata": {
        "id": "view-in-github",
        "colab_type": "text"
      },
      "source": [
        "<a href=\"https://colab.research.google.com/github/tokoha/Ml_projects/blob/main/my_first_model_Celsius_to_Fahrenheit_calculator.ipynb\" target=\"_parent\"><img src=\"https://colab.research.google.com/assets/colab-badge.svg\" alt=\"Open In Colab\"/></a>"
      ]
    },
    {
      "cell_type": "code",
      "execution_count": null,
      "metadata": {
        "colab": {
          "base_uri": "https://localhost:8080/",
          "height": 612
        },
        "id": "SNzqI1VGYfIi",
        "outputId": "28469b44-7216-4777-bb7c-ef8923822e1a"
      },
      "outputs": [
        {
          "output_type": "stream",
          "name": "stdout",
          "text": [
            "-40.0 degrees Celsius = -40.0 degrees Farenhet\n",
            "-10.0 degrees Celsius = 14.0 degrees Farenhet\n",
            "0.0 degrees Celsius = 32.0 degrees Farenhet\n",
            "8.0 degrees Celsius = 46.0 degrees Farenhet\n",
            "15.0 degrees Celsius = 59.0 degrees Farenhet\n",
            "22.0 degrees Celsius = 72.0 degrees Farenhet\n",
            "38.0 degrees Celsius = 100.0 degrees Farenhet\n",
            "Finished training the model\n"
          ]
        },
        {
          "output_type": "execute_result",
          "data": {
            "text/plain": [
              "[<matplotlib.lines.Line2D at 0x78b7112770d0>]"
            ]
          },
          "metadata": {},
          "execution_count": 1
        },
        {
          "output_type": "display_data",
          "data": {
            "text/plain": [
              "<Figure size 640x480 with 1 Axes>"
            ],
            "image/png": "[encoded data removed]"
          },
          "metadata": {}
        }
      ],
      "source": [
        "from tensorflow.python.ops.gen_array_ops import shape\n",
        "import tensorflow as tf\n",
        "\n",
        "\n",
        "import numpy as np\n",
        "\n",
        "\n",
        "celsius_q = np.array([-40, -10, 0, 8, 15, 22, 38], dtype=float)\n",
        "fahrenheit_a = np.array([-40, 14, 32, 46, 59, 72, 100], dtype=float)\n",
        "\n",
        "for i,c in enumerate(celsius_q):\n",
        "  print(\"{} degrees Celsius = {} degrees Farenhet\".format(c, fahrenheit_a[i]) )\n",
        "\n",
        "model = tf.keras.Sequential([\n",
        "                           tf.keras.layers.Dense(units=1, input_shape=[1])\n",
        "])\n",
        "\n",
        "model.compile(loss='mean_squared_error',\n",
        "              optimizer=tf.keras.optimizers.Adam(0.1))\n",
        "\n",
        "history = model.fit(celsius_q, fahrenheit_a, epochs=3000, verbose=False)\n",
        "print(\"Finished training the model\")\n",
        "\n",
        "import matplotlib.pyplot as plt\n",
        "plt.xlabel('Epoch number')\n",
        "plt.ylabel(\"loss magnitude\")\n",
        "plt.plot(history.history['loss'])\n"
      ]
    },
    {
      "cell_type": "code",
      "source": [
        "print(model.predict([150.0]))"
      ],
      "metadata": {
        "colab": {
          "base_uri": "https://localhost:8080/"
        },
        "id": "atbqGjq8k-MP",
        "outputId": "eef009a2-7c36-4014-f765-81a2e60db9cb"
      },
      "execution_count": null,
      "outputs": [
        {
          "output_type": "stream",
          "name": "stdout",
          "text": [
            "1/1 [==============================] - 0s 152ms/step\n",
            "[[301.6449]]\n"
          ]
        }
      ]
    },
    {
      "cell_type": "code",
      "source": [
        "print(\"these are the layer variables: {}\".format(model.get_weights()))"
      ],
      "metadata": {
        "colab": {
          "base_uri": "https://localhost:8080/"
        },
        "id": "eXG9PTkLs_tu",
        "outputId": "7ae34b98-ee18-4819-a00d-5d94dee56f76"
      },
      "execution_count": null,
      "outputs": [
        {
          "output_type": "stream",
          "name": "stdout",
          "text": [
            "these are the layer variables: [array([[1.7979494]], dtype=float32), array([31.952497], dtype=float32)]\n"
          ]
        }
      ]
    },
    {
      "cell_type": "code",
      "source": [
        "print(model.predict([100.0]))"
      ],
      "metadata": {
        "id": "J16NcdPne0r6",
        "colab": {
          "base_uri": "https://localhost:8080/"
        },
        "outputId": "15de1ed4-8f7f-48f3-910e-64987fdb1c7b"
      },
      "execution_count": null,
      "outputs": [
        {
          "output_type": "stream",
          "name": "stdout",
          "text": [
            "1/1 [==============================] - 0s 34ms/step\n",
            "[[211.74744]]\n"
          ]
        }
      ]
    }
  ]
}